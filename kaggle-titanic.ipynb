{
 "cells": [
  {
   "cell_type": "code",
   "execution_count": 1,
   "metadata": {
    "_cell_guid": "b1076dfc-b9ad-4769-8c92-a6c4dae69d19",
    "_uuid": "8f2839f25d086af736a60e9eeb907d3b93b6e0e5",
    "execution": {
     "iopub.execute_input": "2020-09-29T23:18:20.102212Z",
     "iopub.status.busy": "2020-09-29T23:18:20.101531Z",
     "iopub.status.idle": "2020-09-29T23:18:21.485757Z",
     "shell.execute_reply": "2020-09-29T23:18:21.485074Z"
    },
    "papermill": {
     "duration": 1.418914,
     "end_time": "2020-09-29T23:18:21.485915",
     "exception": false,
     "start_time": "2020-09-29T23:18:20.067001",
     "status": "completed"
    },
    "tags": []
   },
   "outputs": [],
   "source": [
    "import numpy as np\n",
    "import pandas as pd\n",
    "import seaborn as sns\n",
    "from sklearn.model_selection import train_test_split\n",
    "from sklearn.ensemble import RandomForestClassifier\n",
    "from sklearn.ensemble import RandomForestRegressor\n",
    "from sklearn.preprocessing import StandardScaler\n",
    "from sklearn.pipeline import Pipeline\n",
    "from sklearn.metrics import confusion_matrix, classification_report, accuracy_score"
   ]
  },
  {
   "cell_type": "markdown",
   "metadata": {
    "papermill": {
     "duration": 0.026554,
     "end_time": "2020-09-29T23:18:21.541889",
     "exception": false,
     "start_time": "2020-09-29T23:18:21.515335",
     "status": "completed"
    },
    "tags": []
   },
   "source": [
    "# データの読み込み, 表示"
   ]
  },
  {
   "cell_type": "code",
   "execution_count": 2,
   "metadata": {
    "_cell_guid": "79c7e3d0-c299-4dcb-8224-4455121ee9b0",
    "_uuid": "d629ff2d2480ee46fbb7e2d37f6b5fab8052498a",
    "execution": {
     "iopub.execute_input": "2020-09-29T23:18:21.604982Z",
     "iopub.status.busy": "2020-09-29T23:18:21.604238Z",
     "iopub.status.idle": "2020-09-29T23:18:21.625678Z",
     "shell.execute_reply": "2020-09-29T23:18:21.624999Z"
    },
    "papermill": {
     "duration": 0.056827,
     "end_time": "2020-09-29T23:18:21.625789",
     "exception": false,
     "start_time": "2020-09-29T23:18:21.568962",
     "status": "completed"
    },
    "tags": []
   },
   "outputs": [],
   "source": [
    "train = pd.read_csv(\"../input/titanic/train.csv\")\n",
    "test = pd.read_csv(\"../input/titanic/test.csv\")"
   ]
  },
  {
   "cell_type": "code",
   "execution_count": 3,
   "metadata": {
    "execution": {
     "iopub.execute_input": "2020-09-29T23:18:21.706559Z",
     "iopub.status.busy": "2020-09-29T23:18:21.688028Z",
     "iopub.status.idle": "2020-09-29T23:18:21.721184Z",
     "shell.execute_reply": "2020-09-29T23:18:21.720574Z"
    },
    "papermill": {
     "duration": 0.068388,
     "end_time": "2020-09-29T23:18:21.721291",
     "exception": false,
     "start_time": "2020-09-29T23:18:21.652903",
     "status": "completed"
    },
    "tags": []
   },
   "outputs": [
    {
     "data": {
      "text/html": [
       "<div>\n",
       "<style scoped>\n",
       "    .dataframe tbody tr th:only-of-type {\n",
       "        vertical-align: middle;\n",
       "    }\n",
       "\n",
       "    .dataframe tbody tr th {\n",
       "        vertical-align: top;\n",
       "    }\n",
       "\n",
       "    .dataframe thead th {\n",
       "        text-align: right;\n",
       "    }\n",
       "</style>\n",
       "<table border=\"1\" class=\"dataframe\">\n",
       "  <thead>\n",
       "    <tr style=\"text-align: right;\">\n",
       "      <th></th>\n",
       "      <th>PassengerId</th>\n",
       "      <th>Survived</th>\n",
       "      <th>Pclass</th>\n",
       "      <th>Name</th>\n",
       "      <th>Sex</th>\n",
       "      <th>Age</th>\n",
       "      <th>SibSp</th>\n",
       "      <th>Parch</th>\n",
       "      <th>Ticket</th>\n",
       "      <th>Fare</th>\n",
       "      <th>Cabin</th>\n",
       "      <th>Embarked</th>\n",
       "    </tr>\n",
       "  </thead>\n",
       "  <tbody>\n",
       "    <tr>\n",
       "      <th>0</th>\n",
       "      <td>1</td>\n",
       "      <td>0</td>\n",
       "      <td>3</td>\n",
       "      <td>Braund, Mr. Owen Harris</td>\n",
       "      <td>male</td>\n",
       "      <td>22.0</td>\n",
       "      <td>1</td>\n",
       "      <td>0</td>\n",
       "      <td>A/5 21171</td>\n",
       "      <td>7.2500</td>\n",
       "      <td>NaN</td>\n",
       "      <td>S</td>\n",
       "    </tr>\n",
       "    <tr>\n",
       "      <th>1</th>\n",
       "      <td>2</td>\n",
       "      <td>1</td>\n",
       "      <td>1</td>\n",
       "      <td>Cumings, Mrs. John Bradley (Florence Briggs Th...</td>\n",
       "      <td>female</td>\n",
       "      <td>38.0</td>\n",
       "      <td>1</td>\n",
       "      <td>0</td>\n",
       "      <td>PC 17599</td>\n",
       "      <td>71.2833</td>\n",
       "      <td>C85</td>\n",
       "      <td>C</td>\n",
       "    </tr>\n",
       "    <tr>\n",
       "      <th>2</th>\n",
       "      <td>3</td>\n",
       "      <td>1</td>\n",
       "      <td>3</td>\n",
       "      <td>Heikkinen, Miss. Laina</td>\n",
       "      <td>female</td>\n",
       "      <td>26.0</td>\n",
       "      <td>0</td>\n",
       "      <td>0</td>\n",
       "      <td>STON/O2. 3101282</td>\n",
       "      <td>7.9250</td>\n",
       "      <td>NaN</td>\n",
       "      <td>S</td>\n",
       "    </tr>\n",
       "    <tr>\n",
       "      <th>3</th>\n",
       "      <td>4</td>\n",
       "      <td>1</td>\n",
       "      <td>1</td>\n",
       "      <td>Futrelle, Mrs. Jacques Heath (Lily May Peel)</td>\n",
       "      <td>female</td>\n",
       "      <td>35.0</td>\n",
       "      <td>1</td>\n",
       "      <td>0</td>\n",
       "      <td>113803</td>\n",
       "      <td>53.1000</td>\n",
       "      <td>C123</td>\n",
       "      <td>S</td>\n",
       "    </tr>\n",
       "    <tr>\n",
       "      <th>4</th>\n",
       "      <td>5</td>\n",
       "      <td>0</td>\n",
       "      <td>3</td>\n",
       "      <td>Allen, Mr. William Henry</td>\n",
       "      <td>male</td>\n",
       "      <td>35.0</td>\n",
       "      <td>0</td>\n",
       "      <td>0</td>\n",
       "      <td>373450</td>\n",
       "      <td>8.0500</td>\n",
       "      <td>NaN</td>\n",
       "      <td>S</td>\n",
       "    </tr>\n",
       "    <tr>\n",
       "      <th>...</th>\n",
       "      <td>...</td>\n",
       "      <td>...</td>\n",
       "      <td>...</td>\n",
       "      <td>...</td>\n",
       "      <td>...</td>\n",
       "      <td>...</td>\n",
       "      <td>...</td>\n",
       "      <td>...</td>\n",
       "      <td>...</td>\n",
       "      <td>...</td>\n",
       "      <td>...</td>\n",
       "      <td>...</td>\n",
       "    </tr>\n",
       "    <tr>\n",
       "      <th>886</th>\n",
       "      <td>887</td>\n",
       "      <td>0</td>\n",
       "      <td>2</td>\n",
       "      <td>Montvila, Rev. Juozas</td>\n",
       "      <td>male</td>\n",
       "      <td>27.0</td>\n",
       "      <td>0</td>\n",
       "      <td>0</td>\n",
       "      <td>211536</td>\n",
       "      <td>13.0000</td>\n",
       "      <td>NaN</td>\n",
       "      <td>S</td>\n",
       "    </tr>\n",
       "    <tr>\n",
       "      <th>887</th>\n",
       "      <td>888</td>\n",
       "      <td>1</td>\n",
       "      <td>1</td>\n",
       "      <td>Graham, Miss. Margaret Edith</td>\n",
       "      <td>female</td>\n",
       "      <td>19.0</td>\n",
       "      <td>0</td>\n",
       "      <td>0</td>\n",
       "      <td>112053</td>\n",
       "      <td>30.0000</td>\n",
       "      <td>B42</td>\n",
       "      <td>S</td>\n",
       "    </tr>\n",
       "    <tr>\n",
       "      <th>888</th>\n",
       "      <td>889</td>\n",
       "      <td>0</td>\n",
       "      <td>3</td>\n",
       "      <td>Johnston, Miss. Catherine Helen \"Carrie\"</td>\n",
       "      <td>female</td>\n",
       "      <td>NaN</td>\n",
       "      <td>1</td>\n",
       "      <td>2</td>\n",
       "      <td>W./C. 6607</td>\n",
       "      <td>23.4500</td>\n",
       "      <td>NaN</td>\n",
       "      <td>S</td>\n",
       "    </tr>\n",
       "    <tr>\n",
       "      <th>889</th>\n",
       "      <td>890</td>\n",
       "      <td>1</td>\n",
       "      <td>1</td>\n",
       "      <td>Behr, Mr. Karl Howell</td>\n",
       "      <td>male</td>\n",
       "      <td>26.0</td>\n",
       "      <td>0</td>\n",
       "      <td>0</td>\n",
       "      <td>111369</td>\n",
       "      <td>30.0000</td>\n",
       "      <td>C148</td>\n",
       "      <td>C</td>\n",
       "    </tr>\n",
       "    <tr>\n",
       "      <th>890</th>\n",
       "      <td>891</td>\n",
       "      <td>0</td>\n",
       "      <td>3</td>\n",
       "      <td>Dooley, Mr. Patrick</td>\n",
       "      <td>male</td>\n",
       "      <td>32.0</td>\n",
       "      <td>0</td>\n",
       "      <td>0</td>\n",
       "      <td>370376</td>\n",
       "      <td>7.7500</td>\n",
       "      <td>NaN</td>\n",
       "      <td>Q</td>\n",
       "    </tr>\n",
       "  </tbody>\n",
       "</table>\n",
       "<p>891 rows × 12 columns</p>\n",
       "</div>"
      ],
      "text/plain": [
       "     PassengerId  Survived  Pclass  \\\n",
       "0              1         0       3   \n",
       "1              2         1       1   \n",
       "2              3         1       3   \n",
       "3              4         1       1   \n",
       "4              5         0       3   \n",
       "..           ...       ...     ...   \n",
       "886          887         0       2   \n",
       "887          888         1       1   \n",
       "888          889         0       3   \n",
       "889          890         1       1   \n",
       "890          891         0       3   \n",
       "\n",
       "                                                  Name     Sex   Age  SibSp  \\\n",
       "0                              Braund, Mr. Owen Harris    male  22.0      1   \n",
       "1    Cumings, Mrs. John Bradley (Florence Briggs Th...  female  38.0      1   \n",
       "2                               Heikkinen, Miss. Laina  female  26.0      0   \n",
       "3         Futrelle, Mrs. Jacques Heath (Lily May Peel)  female  35.0      1   \n",
       "4                             Allen, Mr. William Henry    male  35.0      0   \n",
       "..                                                 ...     ...   ...    ...   \n",
       "886                              Montvila, Rev. Juozas    male  27.0      0   \n",
       "887                       Graham, Miss. Margaret Edith  female  19.0      0   \n",
       "888           Johnston, Miss. Catherine Helen \"Carrie\"  female   NaN      1   \n",
       "889                              Behr, Mr. Karl Howell    male  26.0      0   \n",
       "890                                Dooley, Mr. Patrick    male  32.0      0   \n",
       "\n",
       "     Parch            Ticket     Fare Cabin Embarked  \n",
       "0        0         A/5 21171   7.2500   NaN        S  \n",
       "1        0          PC 17599  71.2833   C85        C  \n",
       "2        0  STON/O2. 3101282   7.9250   NaN        S  \n",
       "3        0            113803  53.1000  C123        S  \n",
       "4        0            373450   8.0500   NaN        S  \n",
       "..     ...               ...      ...   ...      ...  \n",
       "886      0            211536  13.0000   NaN        S  \n",
       "887      0            112053  30.0000   B42        S  \n",
       "888      2        W./C. 6607  23.4500   NaN        S  \n",
       "889      0            111369  30.0000  C148        C  \n",
       "890      0            370376   7.7500   NaN        Q  \n",
       "\n",
       "[891 rows x 12 columns]"
      ]
     },
     "execution_count": 3,
     "metadata": {},
     "output_type": "execute_result"
    }
   ],
   "source": [
    "train"
   ]
  },
  {
   "cell_type": "code",
   "execution_count": 4,
   "metadata": {
    "execution": {
     "iopub.execute_input": "2020-09-29T23:18:21.801801Z",
     "iopub.status.busy": "2020-09-29T23:18:21.801017Z",
     "iopub.status.idle": "2020-09-29T23:18:21.805465Z",
     "shell.execute_reply": "2020-09-29T23:18:21.804815Z"
    },
    "papermill": {
     "duration": 0.056456,
     "end_time": "2020-09-29T23:18:21.805609",
     "exception": false,
     "start_time": "2020-09-29T23:18:21.749153",
     "status": "completed"
    },
    "tags": []
   },
   "outputs": [
    {
     "data": {
      "text/html": [
       "<div>\n",
       "<style scoped>\n",
       "    .dataframe tbody tr th:only-of-type {\n",
       "        vertical-align: middle;\n",
       "    }\n",
       "\n",
       "    .dataframe tbody tr th {\n",
       "        vertical-align: top;\n",
       "    }\n",
       "\n",
       "    .dataframe thead th {\n",
       "        text-align: right;\n",
       "    }\n",
       "</style>\n",
       "<table border=\"1\" class=\"dataframe\">\n",
       "  <thead>\n",
       "    <tr style=\"text-align: right;\">\n",
       "      <th></th>\n",
       "      <th>PassengerId</th>\n",
       "      <th>Pclass</th>\n",
       "      <th>Name</th>\n",
       "      <th>Sex</th>\n",
       "      <th>Age</th>\n",
       "      <th>SibSp</th>\n",
       "      <th>Parch</th>\n",
       "      <th>Ticket</th>\n",
       "      <th>Fare</th>\n",
       "      <th>Cabin</th>\n",
       "      <th>Embarked</th>\n",
       "    </tr>\n",
       "  </thead>\n",
       "  <tbody>\n",
       "    <tr>\n",
       "      <th>0</th>\n",
       "      <td>892</td>\n",
       "      <td>3</td>\n",
       "      <td>Kelly, Mr. James</td>\n",
       "      <td>male</td>\n",
       "      <td>34.5</td>\n",
       "      <td>0</td>\n",
       "      <td>0</td>\n",
       "      <td>330911</td>\n",
       "      <td>7.8292</td>\n",
       "      <td>NaN</td>\n",
       "      <td>Q</td>\n",
       "    </tr>\n",
       "    <tr>\n",
       "      <th>1</th>\n",
       "      <td>893</td>\n",
       "      <td>3</td>\n",
       "      <td>Wilkes, Mrs. James (Ellen Needs)</td>\n",
       "      <td>female</td>\n",
       "      <td>47.0</td>\n",
       "      <td>1</td>\n",
       "      <td>0</td>\n",
       "      <td>363272</td>\n",
       "      <td>7.0000</td>\n",
       "      <td>NaN</td>\n",
       "      <td>S</td>\n",
       "    </tr>\n",
       "    <tr>\n",
       "      <th>2</th>\n",
       "      <td>894</td>\n",
       "      <td>2</td>\n",
       "      <td>Myles, Mr. Thomas Francis</td>\n",
       "      <td>male</td>\n",
       "      <td>62.0</td>\n",
       "      <td>0</td>\n",
       "      <td>0</td>\n",
       "      <td>240276</td>\n",
       "      <td>9.6875</td>\n",
       "      <td>NaN</td>\n",
       "      <td>Q</td>\n",
       "    </tr>\n",
       "    <tr>\n",
       "      <th>3</th>\n",
       "      <td>895</td>\n",
       "      <td>3</td>\n",
       "      <td>Wirz, Mr. Albert</td>\n",
       "      <td>male</td>\n",
       "      <td>27.0</td>\n",
       "      <td>0</td>\n",
       "      <td>0</td>\n",
       "      <td>315154</td>\n",
       "      <td>8.6625</td>\n",
       "      <td>NaN</td>\n",
       "      <td>S</td>\n",
       "    </tr>\n",
       "    <tr>\n",
       "      <th>4</th>\n",
       "      <td>896</td>\n",
       "      <td>3</td>\n",
       "      <td>Hirvonen, Mrs. Alexander (Helga E Lindqvist)</td>\n",
       "      <td>female</td>\n",
       "      <td>22.0</td>\n",
       "      <td>1</td>\n",
       "      <td>1</td>\n",
       "      <td>3101298</td>\n",
       "      <td>12.2875</td>\n",
       "      <td>NaN</td>\n",
       "      <td>S</td>\n",
       "    </tr>\n",
       "    <tr>\n",
       "      <th>...</th>\n",
       "      <td>...</td>\n",
       "      <td>...</td>\n",
       "      <td>...</td>\n",
       "      <td>...</td>\n",
       "      <td>...</td>\n",
       "      <td>...</td>\n",
       "      <td>...</td>\n",
       "      <td>...</td>\n",
       "      <td>...</td>\n",
       "      <td>...</td>\n",
       "      <td>...</td>\n",
       "    </tr>\n",
       "    <tr>\n",
       "      <th>413</th>\n",
       "      <td>1305</td>\n",
       "      <td>3</td>\n",
       "      <td>Spector, Mr. Woolf</td>\n",
       "      <td>male</td>\n",
       "      <td>NaN</td>\n",
       "      <td>0</td>\n",
       "      <td>0</td>\n",
       "      <td>A.5. 3236</td>\n",
       "      <td>8.0500</td>\n",
       "      <td>NaN</td>\n",
       "      <td>S</td>\n",
       "    </tr>\n",
       "    <tr>\n",
       "      <th>414</th>\n",
       "      <td>1306</td>\n",
       "      <td>1</td>\n",
       "      <td>Oliva y Ocana, Dona. Fermina</td>\n",
       "      <td>female</td>\n",
       "      <td>39.0</td>\n",
       "      <td>0</td>\n",
       "      <td>0</td>\n",
       "      <td>PC 17758</td>\n",
       "      <td>108.9000</td>\n",
       "      <td>C105</td>\n",
       "      <td>C</td>\n",
       "    </tr>\n",
       "    <tr>\n",
       "      <th>415</th>\n",
       "      <td>1307</td>\n",
       "      <td>3</td>\n",
       "      <td>Saether, Mr. Simon Sivertsen</td>\n",
       "      <td>male</td>\n",
       "      <td>38.5</td>\n",
       "      <td>0</td>\n",
       "      <td>0</td>\n",
       "      <td>SOTON/O.Q. 3101262</td>\n",
       "      <td>7.2500</td>\n",
       "      <td>NaN</td>\n",
       "      <td>S</td>\n",
       "    </tr>\n",
       "    <tr>\n",
       "      <th>416</th>\n",
       "      <td>1308</td>\n",
       "      <td>3</td>\n",
       "      <td>Ware, Mr. Frederick</td>\n",
       "      <td>male</td>\n",
       "      <td>NaN</td>\n",
       "      <td>0</td>\n",
       "      <td>0</td>\n",
       "      <td>359309</td>\n",
       "      <td>8.0500</td>\n",
       "      <td>NaN</td>\n",
       "      <td>S</td>\n",
       "    </tr>\n",
       "    <tr>\n",
       "      <th>417</th>\n",
       "      <td>1309</td>\n",
       "      <td>3</td>\n",
       "      <td>Peter, Master. Michael J</td>\n",
       "      <td>male</td>\n",
       "      <td>NaN</td>\n",
       "      <td>1</td>\n",
       "      <td>1</td>\n",
       "      <td>2668</td>\n",
       "      <td>22.3583</td>\n",
       "      <td>NaN</td>\n",
       "      <td>C</td>\n",
       "    </tr>\n",
       "  </tbody>\n",
       "</table>\n",
       "<p>418 rows × 11 columns</p>\n",
       "</div>"
      ],
      "text/plain": [
       "     PassengerId  Pclass                                          Name  \\\n",
       "0            892       3                              Kelly, Mr. James   \n",
       "1            893       3              Wilkes, Mrs. James (Ellen Needs)   \n",
       "2            894       2                     Myles, Mr. Thomas Francis   \n",
       "3            895       3                              Wirz, Mr. Albert   \n",
       "4            896       3  Hirvonen, Mrs. Alexander (Helga E Lindqvist)   \n",
       "..           ...     ...                                           ...   \n",
       "413         1305       3                            Spector, Mr. Woolf   \n",
       "414         1306       1                  Oliva y Ocana, Dona. Fermina   \n",
       "415         1307       3                  Saether, Mr. Simon Sivertsen   \n",
       "416         1308       3                           Ware, Mr. Frederick   \n",
       "417         1309       3                      Peter, Master. Michael J   \n",
       "\n",
       "        Sex   Age  SibSp  Parch              Ticket      Fare Cabin Embarked  \n",
       "0      male  34.5      0      0              330911    7.8292   NaN        Q  \n",
       "1    female  47.0      1      0              363272    7.0000   NaN        S  \n",
       "2      male  62.0      0      0              240276    9.6875   NaN        Q  \n",
       "3      male  27.0      0      0              315154    8.6625   NaN        S  \n",
       "4    female  22.0      1      1             3101298   12.2875   NaN        S  \n",
       "..      ...   ...    ...    ...                 ...       ...   ...      ...  \n",
       "413    male   NaN      0      0           A.5. 3236    8.0500   NaN        S  \n",
       "414  female  39.0      0      0            PC 17758  108.9000  C105        C  \n",
       "415    male  38.5      0      0  SOTON/O.Q. 3101262    7.2500   NaN        S  \n",
       "416    male   NaN      0      0              359309    8.0500   NaN        S  \n",
       "417    male   NaN      1      1                2668   22.3583   NaN        C  \n",
       "\n",
       "[418 rows x 11 columns]"
      ]
     },
     "execution_count": 4,
     "metadata": {},
     "output_type": "execute_result"
    }
   ],
   "source": [
    "test"
   ]
  },
  {
   "cell_type": "markdown",
   "metadata": {
    "papermill": {
     "duration": 0.028496,
     "end_time": "2020-09-29T23:18:21.862772",
     "exception": false,
     "start_time": "2020-09-29T23:18:21.834276",
     "status": "completed"
    },
    "tags": []
   },
   "source": [
    "# データの準備, 連結"
   ]
  },
  {
   "cell_type": "markdown",
   "metadata": {
    "papermill": {
     "duration": 0.028597,
     "end_time": "2020-09-29T23:18:21.920690",
     "exception": false,
     "start_time": "2020-09-29T23:18:21.892093",
     "status": "completed"
    },
    "tags": []
   },
   "source": [
    "### 訓練データとテストデータをまとめる"
   ]
  },
  {
   "cell_type": "code",
   "execution_count": 5,
   "metadata": {
    "execution": {
     "iopub.execute_input": "2020-09-29T23:18:21.994481Z",
     "iopub.status.busy": "2020-09-29T23:18:21.993462Z",
     "iopub.status.idle": "2020-09-29T23:18:21.996638Z",
     "shell.execute_reply": "2020-09-29T23:18:21.997143Z"
    },
    "papermill": {
     "duration": 0.04734,
     "end_time": "2020-09-29T23:18:21.997310",
     "exception": false,
     "start_time": "2020-09-29T23:18:21.949970",
     "status": "completed"
    },
    "tags": []
   },
   "outputs": [],
   "source": [
    "df = pd.concat([train, test], sort=False, axis=\"rows\")"
   ]
  },
  {
   "cell_type": "code",
   "execution_count": 6,
   "metadata": {
    "execution": {
     "iopub.execute_input": "2020-09-29T23:18:22.067984Z",
     "iopub.status.busy": "2020-09-29T23:18:22.061758Z",
     "iopub.status.idle": "2020-09-29T23:18:22.091925Z",
     "shell.execute_reply": "2020-09-29T23:18:22.091263Z"
    },
    "papermill": {
     "duration": 0.065229,
     "end_time": "2020-09-29T23:18:22.092039",
     "exception": false,
     "start_time": "2020-09-29T23:18:22.026810",
     "status": "completed"
    },
    "tags": []
   },
   "outputs": [
    {
     "data": {
      "text/html": [
       "<div>\n",
       "<style scoped>\n",
       "    .dataframe tbody tr th:only-of-type {\n",
       "        vertical-align: middle;\n",
       "    }\n",
       "\n",
       "    .dataframe tbody tr th {\n",
       "        vertical-align: top;\n",
       "    }\n",
       "\n",
       "    .dataframe thead th {\n",
       "        text-align: right;\n",
       "    }\n",
       "</style>\n",
       "<table border=\"1\" class=\"dataframe\">\n",
       "  <thead>\n",
       "    <tr style=\"text-align: right;\">\n",
       "      <th></th>\n",
       "      <th>PassengerId</th>\n",
       "      <th>Survived</th>\n",
       "      <th>Pclass</th>\n",
       "      <th>Name</th>\n",
       "      <th>Sex</th>\n",
       "      <th>Age</th>\n",
       "      <th>SibSp</th>\n",
       "      <th>Parch</th>\n",
       "      <th>Ticket</th>\n",
       "      <th>Fare</th>\n",
       "      <th>Cabin</th>\n",
       "      <th>Embarked</th>\n",
       "    </tr>\n",
       "  </thead>\n",
       "  <tbody>\n",
       "    <tr>\n",
       "      <th>0</th>\n",
       "      <td>1</td>\n",
       "      <td>0.0</td>\n",
       "      <td>3</td>\n",
       "      <td>Braund, Mr. Owen Harris</td>\n",
       "      <td>male</td>\n",
       "      <td>22.0</td>\n",
       "      <td>1</td>\n",
       "      <td>0</td>\n",
       "      <td>A/5 21171</td>\n",
       "      <td>7.2500</td>\n",
       "      <td>NaN</td>\n",
       "      <td>S</td>\n",
       "    </tr>\n",
       "    <tr>\n",
       "      <th>1</th>\n",
       "      <td>2</td>\n",
       "      <td>1.0</td>\n",
       "      <td>1</td>\n",
       "      <td>Cumings, Mrs. John Bradley (Florence Briggs Th...</td>\n",
       "      <td>female</td>\n",
       "      <td>38.0</td>\n",
       "      <td>1</td>\n",
       "      <td>0</td>\n",
       "      <td>PC 17599</td>\n",
       "      <td>71.2833</td>\n",
       "      <td>C85</td>\n",
       "      <td>C</td>\n",
       "    </tr>\n",
       "    <tr>\n",
       "      <th>2</th>\n",
       "      <td>3</td>\n",
       "      <td>1.0</td>\n",
       "      <td>3</td>\n",
       "      <td>Heikkinen, Miss. Laina</td>\n",
       "      <td>female</td>\n",
       "      <td>26.0</td>\n",
       "      <td>0</td>\n",
       "      <td>0</td>\n",
       "      <td>STON/O2. 3101282</td>\n",
       "      <td>7.9250</td>\n",
       "      <td>NaN</td>\n",
       "      <td>S</td>\n",
       "    </tr>\n",
       "    <tr>\n",
       "      <th>3</th>\n",
       "      <td>4</td>\n",
       "      <td>1.0</td>\n",
       "      <td>1</td>\n",
       "      <td>Futrelle, Mrs. Jacques Heath (Lily May Peel)</td>\n",
       "      <td>female</td>\n",
       "      <td>35.0</td>\n",
       "      <td>1</td>\n",
       "      <td>0</td>\n",
       "      <td>113803</td>\n",
       "      <td>53.1000</td>\n",
       "      <td>C123</td>\n",
       "      <td>S</td>\n",
       "    </tr>\n",
       "    <tr>\n",
       "      <th>4</th>\n",
       "      <td>5</td>\n",
       "      <td>0.0</td>\n",
       "      <td>3</td>\n",
       "      <td>Allen, Mr. William Henry</td>\n",
       "      <td>male</td>\n",
       "      <td>35.0</td>\n",
       "      <td>0</td>\n",
       "      <td>0</td>\n",
       "      <td>373450</td>\n",
       "      <td>8.0500</td>\n",
       "      <td>NaN</td>\n",
       "      <td>S</td>\n",
       "    </tr>\n",
       "    <tr>\n",
       "      <th>...</th>\n",
       "      <td>...</td>\n",
       "      <td>...</td>\n",
       "      <td>...</td>\n",
       "      <td>...</td>\n",
       "      <td>...</td>\n",
       "      <td>...</td>\n",
       "      <td>...</td>\n",
       "      <td>...</td>\n",
       "      <td>...</td>\n",
       "      <td>...</td>\n",
       "      <td>...</td>\n",
       "      <td>...</td>\n",
       "    </tr>\n",
       "    <tr>\n",
       "      <th>413</th>\n",
       "      <td>1305</td>\n",
       "      <td>NaN</td>\n",
       "      <td>3</td>\n",
       "      <td>Spector, Mr. Woolf</td>\n",
       "      <td>male</td>\n",
       "      <td>NaN</td>\n",
       "      <td>0</td>\n",
       "      <td>0</td>\n",
       "      <td>A.5. 3236</td>\n",
       "      <td>8.0500</td>\n",
       "      <td>NaN</td>\n",
       "      <td>S</td>\n",
       "    </tr>\n",
       "    <tr>\n",
       "      <th>414</th>\n",
       "      <td>1306</td>\n",
       "      <td>NaN</td>\n",
       "      <td>1</td>\n",
       "      <td>Oliva y Ocana, Dona. Fermina</td>\n",
       "      <td>female</td>\n",
       "      <td>39.0</td>\n",
       "      <td>0</td>\n",
       "      <td>0</td>\n",
       "      <td>PC 17758</td>\n",
       "      <td>108.9000</td>\n",
       "      <td>C105</td>\n",
       "      <td>C</td>\n",
       "    </tr>\n",
       "    <tr>\n",
       "      <th>415</th>\n",
       "      <td>1307</td>\n",
       "      <td>NaN</td>\n",
       "      <td>3</td>\n",
       "      <td>Saether, Mr. Simon Sivertsen</td>\n",
       "      <td>male</td>\n",
       "      <td>38.5</td>\n",
       "      <td>0</td>\n",
       "      <td>0</td>\n",
       "      <td>SOTON/O.Q. 3101262</td>\n",
       "      <td>7.2500</td>\n",
       "      <td>NaN</td>\n",
       "      <td>S</td>\n",
       "    </tr>\n",
       "    <tr>\n",
       "      <th>416</th>\n",
       "      <td>1308</td>\n",
       "      <td>NaN</td>\n",
       "      <td>3</td>\n",
       "      <td>Ware, Mr. Frederick</td>\n",
       "      <td>male</td>\n",
       "      <td>NaN</td>\n",
       "      <td>0</td>\n",
       "      <td>0</td>\n",
       "      <td>359309</td>\n",
       "      <td>8.0500</td>\n",
       "      <td>NaN</td>\n",
       "      <td>S</td>\n",
       "    </tr>\n",
       "    <tr>\n",
       "      <th>417</th>\n",
       "      <td>1309</td>\n",
       "      <td>NaN</td>\n",
       "      <td>3</td>\n",
       "      <td>Peter, Master. Michael J</td>\n",
       "      <td>male</td>\n",
       "      <td>NaN</td>\n",
       "      <td>1</td>\n",
       "      <td>1</td>\n",
       "      <td>2668</td>\n",
       "      <td>22.3583</td>\n",
       "      <td>NaN</td>\n",
       "      <td>C</td>\n",
       "    </tr>\n",
       "  </tbody>\n",
       "</table>\n",
       "<p>1309 rows × 12 columns</p>\n",
       "</div>"
      ],
      "text/plain": [
       "     PassengerId  Survived  Pclass  \\\n",
       "0              1       0.0       3   \n",
       "1              2       1.0       1   \n",
       "2              3       1.0       3   \n",
       "3              4       1.0       1   \n",
       "4              5       0.0       3   \n",
       "..           ...       ...     ...   \n",
       "413         1305       NaN       3   \n",
       "414         1306       NaN       1   \n",
       "415         1307       NaN       3   \n",
       "416         1308       NaN       3   \n",
       "417         1309       NaN       3   \n",
       "\n",
       "                                                  Name     Sex   Age  SibSp  \\\n",
       "0                              Braund, Mr. Owen Harris    male  22.0      1   \n",
       "1    Cumings, Mrs. John Bradley (Florence Briggs Th...  female  38.0      1   \n",
       "2                               Heikkinen, Miss. Laina  female  26.0      0   \n",
       "3         Futrelle, Mrs. Jacques Heath (Lily May Peel)  female  35.0      1   \n",
       "4                             Allen, Mr. William Henry    male  35.0      0   \n",
       "..                                                 ...     ...   ...    ...   \n",
       "413                                 Spector, Mr. Woolf    male   NaN      0   \n",
       "414                       Oliva y Ocana, Dona. Fermina  female  39.0      0   \n",
       "415                       Saether, Mr. Simon Sivertsen    male  38.5      0   \n",
       "416                                Ware, Mr. Frederick    male   NaN      0   \n",
       "417                           Peter, Master. Michael J    male   NaN      1   \n",
       "\n",
       "     Parch              Ticket      Fare Cabin Embarked  \n",
       "0        0           A/5 21171    7.2500   NaN        S  \n",
       "1        0            PC 17599   71.2833   C85        C  \n",
       "2        0    STON/O2. 3101282    7.9250   NaN        S  \n",
       "3        0              113803   53.1000  C123        S  \n",
       "4        0              373450    8.0500   NaN        S  \n",
       "..     ...                 ...       ...   ...      ...  \n",
       "413      0           A.5. 3236    8.0500   NaN        S  \n",
       "414      0            PC 17758  108.9000  C105        C  \n",
       "415      0  SOTON/O.Q. 3101262    7.2500   NaN        S  \n",
       "416      0              359309    8.0500   NaN        S  \n",
       "417      1                2668   22.3583   NaN        C  \n",
       "\n",
       "[1309 rows x 12 columns]"
      ]
     },
     "execution_count": 6,
     "metadata": {},
     "output_type": "execute_result"
    }
   ],
   "source": [
    "df"
   ]
  },
  {
   "cell_type": "markdown",
   "metadata": {
    "papermill": {
     "duration": 0.030477,
     "end_time": "2020-09-29T23:18:22.152712",
     "exception": false,
     "start_time": "2020-09-29T23:18:22.122235",
     "status": "completed"
    },
    "tags": []
   },
   "source": [
    "# 欠損値を確認"
   ]
  },
  {
   "cell_type": "code",
   "execution_count": 7,
   "metadata": {
    "execution": {
     "iopub.execute_input": "2020-09-29T23:18:22.221894Z",
     "iopub.status.busy": "2020-09-29T23:18:22.219827Z",
     "iopub.status.idle": "2020-09-29T23:18:22.226473Z",
     "shell.execute_reply": "2020-09-29T23:18:22.225839Z"
    },
    "papermill": {
     "duration": 0.043975,
     "end_time": "2020-09-29T23:18:22.226582",
     "exception": false,
     "start_time": "2020-09-29T23:18:22.182607",
     "status": "completed"
    },
    "tags": []
   },
   "outputs": [
    {
     "data": {
      "text/plain": [
       "PassengerId       0\n",
       "Survived        418\n",
       "Pclass            0\n",
       "Name              0\n",
       "Sex               0\n",
       "Age             263\n",
       "SibSp             0\n",
       "Parch             0\n",
       "Ticket            0\n",
       "Fare              1\n",
       "Cabin          1014\n",
       "Embarked          2\n",
       "dtype: int64"
      ]
     },
     "execution_count": 7,
     "metadata": {},
     "output_type": "execute_result"
    }
   ],
   "source": [
    "df.isnull().sum()"
   ]
  },
  {
   "cell_type": "markdown",
   "metadata": {
    "papermill": {
     "duration": 0.030577,
     "end_time": "2020-09-29T23:18:22.287292",
     "exception": false,
     "start_time": "2020-09-29T23:18:22.256715",
     "status": "completed"
    },
    "tags": []
   },
   "source": [
    "### 生存率, 年齢, 客室番号, 出港地 に欠損値が存在する"
   ]
  },
  {
   "cell_type": "markdown",
   "metadata": {
    "papermill": {
     "duration": 0.029599,
     "end_time": "2020-09-29T23:18:22.347161",
     "exception": false,
     "start_time": "2020-09-29T23:18:22.317562",
     "status": "completed"
    },
    "tags": []
   },
   "source": [
    "# 型の確認"
   ]
  },
  {
   "cell_type": "code",
   "execution_count": 8,
   "metadata": {
    "execution": {
     "iopub.execute_input": "2020-09-29T23:18:22.414945Z",
     "iopub.status.busy": "2020-09-29T23:18:22.414020Z",
     "iopub.status.idle": "2020-09-29T23:18:22.418728Z",
     "shell.execute_reply": "2020-09-29T23:18:22.418124Z"
    },
    "papermill": {
     "duration": 0.041429,
     "end_time": "2020-09-29T23:18:22.418845",
     "exception": false,
     "start_time": "2020-09-29T23:18:22.377416",
     "status": "completed"
    },
    "tags": []
   },
   "outputs": [
    {
     "data": {
      "text/plain": [
       "PassengerId      int64\n",
       "Survived       float64\n",
       "Pclass           int64\n",
       "Name            object\n",
       "Sex             object\n",
       "Age            float64\n",
       "SibSp            int64\n",
       "Parch            int64\n",
       "Ticket          object\n",
       "Fare           float64\n",
       "Cabin           object\n",
       "Embarked        object\n",
       "dtype: object"
      ]
     },
     "execution_count": 8,
     "metadata": {},
     "output_type": "execute_result"
    }
   ],
   "source": [
    "df.dtypes"
   ]
  },
  {
   "cell_type": "markdown",
   "metadata": {
    "papermill": {
     "duration": 0.030541,
     "end_time": "2020-09-29T23:18:22.480245",
     "exception": false,
     "start_time": "2020-09-29T23:18:22.449704",
     "status": "completed"
    },
    "tags": []
   },
   "source": [
    "### 名前, 性別, チケット, 客室番号, 出港地 は数値型へ変換する"
   ]
  },
  {
   "cell_type": "markdown",
   "metadata": {
    "papermill": {
     "duration": 0.030393,
     "end_time": "2020-09-29T23:18:22.540988",
     "exception": false,
     "start_time": "2020-09-29T23:18:22.510595",
     "status": "completed"
    },
    "tags": []
   },
   "source": [
    "# 名前から敬称を取り出し変換, 特徴量として扱う"
   ]
  },
  {
   "cell_type": "code",
   "execution_count": 9,
   "metadata": {
    "execution": {
     "iopub.execute_input": "2020-09-29T23:18:22.621430Z",
     "iopub.status.busy": "2020-09-29T23:18:22.620754Z",
     "iopub.status.idle": "2020-09-29T23:18:22.623760Z",
     "shell.execute_reply": "2020-09-29T23:18:22.623261Z"
    },
    "papermill": {
     "duration": 0.052741,
     "end_time": "2020-09-29T23:18:22.623893",
     "exception": false,
     "start_time": "2020-09-29T23:18:22.571152",
     "status": "completed"
    },
    "tags": []
   },
   "outputs": [],
   "source": [
    "df[\"Salutation\"] = df[\"Name\"].str.extract(\"([A-Za-z]+)\\.\", expand=False)                                  # pandas の文字列を正規表現で分割\n",
    "\n",
    "df[\"Salutation\"].replace([\"Mme\", \"Ms\"], \"Mrs\", inplace=True)                                              # Mrs に変換\n",
    "df[\"Salutation\"].replace(\"Mlle\", \"Miss\", inplace=True)                                                    # Miss に変換\n",
    "df[\"Salutation\"].replace([\"Capt\", \"Col\", \"Dr\", \"Major\", \"Rev\"], \"Officer\", inplace=True)                  # Officer カテゴリにまとめる\n",
    "df[\"Salutation\"].replace([\"Countess\", \"Don\", \"Dona\", \"Jonkheer\", \"Lady\", \"Sir\"], \"Royalty\", inplace=True) # Royalty カテゴリにまとめる"
   ]
  },
  {
   "cell_type": "markdown",
   "metadata": {
    "papermill": {
     "duration": 0.03025,
     "end_time": "2020-09-29T23:18:22.685060",
     "exception": false,
     "start_time": "2020-09-29T23:18:22.654810",
     "status": "completed"
    },
    "tags": []
   },
   "source": [
    "# 名前の型変換"
   ]
  },
  {
   "cell_type": "code",
   "execution_count": 10,
   "metadata": {
    "execution": {
     "iopub.execute_input": "2020-09-29T23:18:22.766578Z",
     "iopub.status.busy": "2020-09-29T23:18:22.765839Z",
     "iopub.status.idle": "2020-09-29T23:18:22.866087Z",
     "shell.execute_reply": "2020-09-29T23:18:22.865531Z"
    },
    "papermill": {
     "duration": 0.148985,
     "end_time": "2020-09-29T23:18:22.866220",
     "exception": false,
     "start_time": "2020-09-29T23:18:22.717235",
     "status": "completed"
    },
    "tags": []
   },
   "outputs": [
    {
     "data": {
      "text/plain": [
       "0     761\n",
       "1     258\n",
       "2     197\n",
       "3      69\n",
       "4       8\n",
       "5       4\n",
       "10      2\n",
       "6       2\n",
       "15      1\n",
       "14      1\n",
       "13      1\n",
       "12      1\n",
       "11      1\n",
       "9       1\n",
       "8       1\n",
       "7       1\n",
       "Name: Name, dtype: int64"
      ]
     },
     "execution_count": 10,
     "metadata": {},
     "output_type": "execute_result"
    }
   ],
   "source": [
    "df.loc[df[\"Name\"].str.contains(\"Mr. \") == True, \"Name\"] = 0\n",
    "df.loc[df[\"Name\"].str.contains(\"Miss. \") == True, \"Name\"] = 1\n",
    "df.loc[df[\"Name\"].str.contains(\"Mrs. \") == True, \"Name\"] = 2\n",
    "df.loc[df[\"Name\"].str.contains(\"Master. \") == True, \"Name\"] = 3\n",
    "df.loc[df[\"Name\"].str.contains(\"Dr. \") == True, \"Name\"] = 3\n",
    "df.loc[df[\"Name\"].str.contains(\"Rev. \") == True, \"Name\"] = 4\n",
    "df.loc[df[\"Name\"].str.contains(\"Col. \") == True, \"Name\"] = 5\n",
    "df.loc[df[\"Name\"].str.contains(\"Major. \") == True, \"Name\"] = 6\n",
    "df.loc[df[\"Name\"].str.contains(\"Jonkheer. \") == True, \"Name\"] = 7\n",
    "df.loc[df[\"Name\"].str.contains(\"Mme. \") == True, \"Name\"] = 8\n",
    "df.loc[df[\"Name\"].str.contains(\"Capt. \") == True, \"Name\"] = 9\n",
    "df.loc[df[\"Name\"].str.contains(\"Ms. \") == True, \"Name\"] = 10\n",
    "df.loc[df[\"Name\"].str.contains(\"Mlle. \") == True, \"Name\"] = 11\n",
    "df.loc[df[\"Name\"].str.contains(\"Don. \") == True, \"Name\"] = 12\n",
    "df.loc[df[\"Name\"].str.contains(\"Countess. \") == True, \"Name\"] = 13\n",
    "df.loc[df[\"Name\"].str.contains(\"Sir. \") == True, \"Name\"] = 14\n",
    "df.loc[df[\"Name\"].str.contains(\"Dona. \") == True, \"Name\"] = 15\n",
    "\n",
    "df[\"Name\"].value_counts()"
   ]
  },
  {
   "cell_type": "markdown",
   "metadata": {
    "papermill": {
     "duration": 0.03218,
     "end_time": "2020-09-29T23:18:22.930374",
     "exception": false,
     "start_time": "2020-09-29T23:18:22.898194",
     "status": "completed"
    },
    "tags": []
   },
   "source": [
    "# 性別の型変換"
   ]
  },
  {
   "cell_type": "code",
   "execution_count": 11,
   "metadata": {
    "execution": {
     "iopub.execute_input": "2020-09-29T23:18:23.001526Z",
     "iopub.status.busy": "2020-09-29T23:18:23.000862Z",
     "iopub.status.idle": "2020-09-29T23:18:23.007763Z",
     "shell.execute_reply": "2020-09-29T23:18:23.008268Z"
    },
    "papermill": {
     "duration": 0.045745,
     "end_time": "2020-09-29T23:18:23.008418",
     "exception": false,
     "start_time": "2020-09-29T23:18:22.962673",
     "status": "completed"
    },
    "tags": []
   },
   "outputs": [
    {
     "data": {
      "text/plain": [
       "0    843\n",
       "1    466\n",
       "Name: Sex, dtype: int64"
      ]
     },
     "execution_count": 11,
     "metadata": {},
     "output_type": "execute_result"
    }
   ],
   "source": [
    "df[\"Sex\"] = df[\"Sex\"].replace({\"male\":0, \"female\":1})\n",
    "\n",
    "df[\"Sex\"].value_counts()"
   ]
  },
  {
   "cell_type": "markdown",
   "metadata": {
    "papermill": {
     "duration": 0.032017,
     "end_time": "2020-09-29T23:18:23.072504",
     "exception": false,
     "start_time": "2020-09-29T23:18:23.040487",
     "status": "completed"
    },
    "tags": []
   },
   "source": [
    "# チケットの型変換"
   ]
  },
  {
   "cell_type": "markdown",
   "metadata": {
    "papermill": {
     "duration": 0.032691,
     "end_time": "2020-09-29T23:18:23.138143",
     "exception": false,
     "start_time": "2020-09-29T23:18:23.105452",
     "status": "completed"
    },
    "tags": []
   },
   "source": [
    "### 複雑なため, カラムを削除する方針とする."
   ]
  },
  {
   "cell_type": "markdown",
   "metadata": {
    "papermill": {
     "duration": 0.032401,
     "end_time": "2020-09-29T23:18:23.203163",
     "exception": false,
     "start_time": "2020-09-29T23:18:23.170762",
     "status": "completed"
    },
    "tags": []
   },
   "source": [
    "# 客室番号の型変換"
   ]
  },
  {
   "cell_type": "markdown",
   "metadata": {
    "papermill": {
     "duration": 0.04513,
     "end_time": "2020-09-29T23:18:23.280550",
     "exception": false,
     "start_time": "2020-09-29T23:18:23.235420",
     "status": "completed"
    },
    "tags": []
   },
   "source": [
    "### 欠損値は0で補完"
   ]
  },
  {
   "cell_type": "code",
   "execution_count": 12,
   "metadata": {
    "execution": {
     "iopub.execute_input": "2020-09-29T23:18:23.381547Z",
     "iopub.status.busy": "2020-09-29T23:18:23.380561Z",
     "iopub.status.idle": "2020-09-29T23:18:23.426345Z",
     "shell.execute_reply": "2020-09-29T23:18:23.426898Z"
    },
    "papermill": {
     "duration": 0.092092,
     "end_time": "2020-09-29T23:18:23.427055",
     "exception": false,
     "start_time": "2020-09-29T23:18:23.334963",
     "status": "completed"
    },
    "tags": []
   },
   "outputs": [
    {
     "data": {
      "text/plain": [
       "0    1014\n",
       "1      94\n",
       "2      65\n",
       "3      46\n",
       "4      44\n",
       "5      22\n",
       "6      18\n",
       "7       5\n",
       "8       1\n",
       "Name: Cabin, dtype: int64"
      ]
     },
     "execution_count": 12,
     "metadata": {},
     "output_type": "execute_result"
    }
   ],
   "source": [
    "df[\"Cabin\"] = df[\"Cabin\"].fillna(0)\n",
    "df.loc[df[\"Cabin\"].str.contains(\"C\") == True, \"Cabin\"] = 1\n",
    "df.loc[df[\"Cabin\"].str.contains(\"B\") == True, \"Cabin\"] = 2\n",
    "df.loc[df[\"Cabin\"].str.contains(\"D\") == True, \"Cabin\"] = 3\n",
    "df.loc[df[\"Cabin\"].str.contains(\"E\") == True, \"Cabin\"] = 4\n",
    "df.loc[df[\"Cabin\"].str.contains(\"A\") == True, \"Cabin\"] = 5\n",
    "df.loc[df[\"Cabin\"].str.contains(\"F\") == True, \"Cabin\"] = 6\n",
    "df.loc[df[\"Cabin\"].str.contains(\"G\") == True, \"Cabin\"] = 7\n",
    "df.loc[df[\"Cabin\"].str.contains(\"T\") == True, \"Cabin\"] = 8\n",
    "\n",
    "df[\"Cabin\"].value_counts()"
   ]
  },
  {
   "cell_type": "markdown",
   "metadata": {
    "papermill": {
     "duration": 0.032819,
     "end_time": "2020-09-29T23:18:23.492949",
     "exception": false,
     "start_time": "2020-09-29T23:18:23.460130",
     "status": "completed"
    },
    "tags": []
   },
   "source": [
    "# 出港地の型変換"
   ]
  },
  {
   "cell_type": "markdown",
   "metadata": {
    "papermill": {
     "duration": 0.032726,
     "end_time": "2020-09-29T23:18:23.558606",
     "exception": false,
     "start_time": "2020-09-29T23:18:23.525880",
     "status": "completed"
    },
    "tags": []
   },
   "source": [
    "### 欠損値は最頻値 S で補完"
   ]
  },
  {
   "cell_type": "code",
   "execution_count": 13,
   "metadata": {
    "execution": {
     "iopub.execute_input": "2020-09-29T23:18:23.628768Z",
     "iopub.status.busy": "2020-09-29T23:18:23.628084Z",
     "iopub.status.idle": "2020-09-29T23:18:23.640313Z",
     "shell.execute_reply": "2020-09-29T23:18:23.640810Z"
    },
    "papermill": {
     "duration": 0.049457,
     "end_time": "2020-09-29T23:18:23.640946",
     "exception": false,
     "start_time": "2020-09-29T23:18:23.591489",
     "status": "completed"
    },
    "tags": []
   },
   "outputs": [
    {
     "data": {
      "text/plain": [
       "S    916\n",
       "C    270\n",
       "Q    123\n",
       "Name: Embarked, dtype: int64"
      ]
     },
     "execution_count": 13,
     "metadata": {},
     "output_type": "execute_result"
    }
   ],
   "source": [
    "df[\"Embarked\"] = df[\"Embarked\"].fillna(\"S\")\n",
    "\n",
    "df[\"Embarked\"].value_counts()"
   ]
  },
  {
   "cell_type": "code",
   "execution_count": 14,
   "metadata": {
    "execution": {
     "iopub.execute_input": "2020-09-29T23:18:23.716214Z",
     "iopub.status.busy": "2020-09-29T23:18:23.715238Z",
     "iopub.status.idle": "2020-09-29T23:18:23.729633Z",
     "shell.execute_reply": "2020-09-29T23:18:23.729140Z"
    },
    "papermill": {
     "duration": 0.049996,
     "end_time": "2020-09-29T23:18:23.729744",
     "exception": false,
     "start_time": "2020-09-29T23:18:23.679748",
     "status": "completed"
    },
    "tags": []
   },
   "outputs": [
    {
     "data": {
      "text/plain": [
       "0    916\n",
       "1    270\n",
       "2    123\n",
       "Name: Embarked, dtype: int64"
      ]
     },
     "execution_count": 14,
     "metadata": {},
     "output_type": "execute_result"
    }
   ],
   "source": [
    "df.loc[df[\"Embarked\"] == \"S\", \"Embarked\"] = 0\n",
    "df.loc[df[\"Embarked\"] == \"C\", \"Embarked\"] = 1\n",
    "df.loc[df[\"Embarked\"] == \"Q\", \"Embarked\"] = 2\n",
    "\n",
    "df[\"Embarked\"].value_counts()"
   ]
  },
  {
   "cell_type": "markdown",
   "metadata": {
    "papermill": {
     "duration": 0.039905,
     "end_time": "2020-09-29T23:18:23.802895",
     "exception": false,
     "start_time": "2020-09-29T23:18:23.762990",
     "status": "completed"
    },
    "tags": []
   },
   "source": [
    "# 年齢の欠損値を補完"
   ]
  },
  {
   "cell_type": "markdown",
   "metadata": {
    "papermill": {
     "duration": 0.038621,
     "end_time": "2020-09-29T23:18:23.880533",
     "exception": false,
     "start_time": "2020-09-29T23:18:23.841912",
     "status": "completed"
    },
    "tags": []
   },
   "source": [
    "### 年齢予測用モデルを作成し, 欠損しているデータの年齢をランダムフォレストにより予測"
   ]
  },
  {
   "cell_type": "code",
   "execution_count": 15,
   "metadata": {
    "execution": {
     "iopub.execute_input": "2020-09-29T23:18:23.982499Z",
     "iopub.status.busy": "2020-09-29T23:18:23.976682Z",
     "iopub.status.idle": "2020-09-29T23:18:24.228378Z",
     "shell.execute_reply": "2020-09-29T23:18:24.227819Z"
    },
    "papermill": {
     "duration": 0.308047,
     "end_time": "2020-09-29T23:18:24.228494",
     "exception": false,
     "start_time": "2020-09-29T23:18:23.920447",
     "status": "completed"
    },
    "tags": []
   },
   "outputs": [],
   "source": [
    "df_age = df.loc[:, [\"Age\", \"Sex\", \"SibSp\", \"Parch\", \"Salutation\"]]\n",
    "df_age = pd.get_dummies(df_age, columns=[\"Sex\", \"Salutation\"])\n",
    "\n",
    "df_age_notnull = df_age[df_age[\"Age\"].notnull()] # 学習データ\n",
    "df_age_null = df_age[df_age[\"Age\"].isnull()]     # 欠損値補完が必要な学習データ\n",
    "\n",
    "X = df_age_notnull.iloc[:, 1:]                   # 説明変数\n",
    "y = df_age_notnull.iloc[:, 0]                    # 目的変数\n",
    "\n",
    "pipeline = Pipeline([(\"scl\", StandardScaler()),  # 標準化を Pipeline により置き換え\n",
    "                    (\"est\", RandomForestRegressor(random_state=0))])\n",
    "pipeline.fit(X, y)\n",
    "age_predicted = pipeline.predict(df_age_null.iloc[:, 1:])\n",
    "\n",
    "df.loc[(df[\"Age\"].isnull()), \"Age\"] = age_predicted"
   ]
  },
  {
   "cell_type": "markdown",
   "metadata": {
    "papermill": {
     "duration": 0.033041,
     "end_time": "2020-09-29T23:18:24.295064",
     "exception": false,
     "start_time": "2020-09-29T23:18:24.262023",
     "status": "completed"
    },
    "tags": []
   },
   "source": [
    "# 料金の欠損値を補完"
   ]
  },
  {
   "cell_type": "markdown",
   "metadata": {
    "papermill": {
     "duration": 0.033295,
     "end_time": "2020-09-29T23:18:24.361635",
     "exception": false,
     "start_time": "2020-09-29T23:18:24.328340",
     "status": "completed"
    },
    "tags": []
   },
   "source": [
    "### 欠損値は0で補完"
   ]
  },
  {
   "cell_type": "code",
   "execution_count": 16,
   "metadata": {
    "execution": {
     "iopub.execute_input": "2020-09-29T23:18:24.435275Z",
     "iopub.status.busy": "2020-09-29T23:18:24.434631Z",
     "iopub.status.idle": "2020-09-29T23:18:24.437415Z",
     "shell.execute_reply": "2020-09-29T23:18:24.436897Z"
    },
    "papermill": {
     "duration": 0.041172,
     "end_time": "2020-09-29T23:18:24.437530",
     "exception": false,
     "start_time": "2020-09-29T23:18:24.396358",
     "status": "completed"
    },
    "tags": []
   },
   "outputs": [],
   "source": [
    "df[\"Fare\"] = df[\"Fare\"].fillna(0)"
   ]
  },
  {
   "cell_type": "markdown",
   "metadata": {
    "papermill": {
     "duration": 0.033376,
     "end_time": "2020-09-29T23:18:24.504802",
     "exception": false,
     "start_time": "2020-09-29T23:18:24.471426",
     "status": "completed"
    },
    "tags": []
   },
   "source": [
    "# 訓練データとテストデータを分割"
   ]
  },
  {
   "cell_type": "code",
   "execution_count": 17,
   "metadata": {
    "execution": {
     "iopub.execute_input": "2020-09-29T23:18:24.599614Z",
     "iopub.status.busy": "2020-09-29T23:18:24.598554Z",
     "iopub.status.idle": "2020-09-29T23:18:24.602557Z",
     "shell.execute_reply": "2020-09-29T23:18:24.602996Z"
    },
    "papermill": {
     "duration": 0.064634,
     "end_time": "2020-09-29T23:18:24.603152",
     "exception": false,
     "start_time": "2020-09-29T23:18:24.538518",
     "status": "completed"
    },
    "tags": []
   },
   "outputs": [
    {
     "data": {
      "text/html": [
       "<div>\n",
       "<style scoped>\n",
       "    .dataframe tbody tr th:only-of-type {\n",
       "        vertical-align: middle;\n",
       "    }\n",
       "\n",
       "    .dataframe tbody tr th {\n",
       "        vertical-align: top;\n",
       "    }\n",
       "\n",
       "    .dataframe thead th {\n",
       "        text-align: right;\n",
       "    }\n",
       "</style>\n",
       "<table border=\"1\" class=\"dataframe\">\n",
       "  <thead>\n",
       "    <tr style=\"text-align: right;\">\n",
       "      <th></th>\n",
       "      <th>PassengerId</th>\n",
       "      <th>Survived</th>\n",
       "      <th>Pclass</th>\n",
       "      <th>Name</th>\n",
       "      <th>Sex</th>\n",
       "      <th>Age</th>\n",
       "      <th>SibSp</th>\n",
       "      <th>Parch</th>\n",
       "      <th>Ticket</th>\n",
       "      <th>Fare</th>\n",
       "      <th>Cabin</th>\n",
       "      <th>Embarked</th>\n",
       "      <th>Salutation</th>\n",
       "    </tr>\n",
       "  </thead>\n",
       "  <tbody>\n",
       "    <tr>\n",
       "      <th>0</th>\n",
       "      <td>1</td>\n",
       "      <td>0.0</td>\n",
       "      <td>3</td>\n",
       "      <td>0</td>\n",
       "      <td>0</td>\n",
       "      <td>22.000000</td>\n",
       "      <td>1</td>\n",
       "      <td>0</td>\n",
       "      <td>A/5 21171</td>\n",
       "      <td>7.2500</td>\n",
       "      <td>0</td>\n",
       "      <td>0</td>\n",
       "      <td>Mr</td>\n",
       "    </tr>\n",
       "    <tr>\n",
       "      <th>1</th>\n",
       "      <td>2</td>\n",
       "      <td>1.0</td>\n",
       "      <td>1</td>\n",
       "      <td>2</td>\n",
       "      <td>1</td>\n",
       "      <td>38.000000</td>\n",
       "      <td>1</td>\n",
       "      <td>0</td>\n",
       "      <td>PC 17599</td>\n",
       "      <td>71.2833</td>\n",
       "      <td>1</td>\n",
       "      <td>1</td>\n",
       "      <td>Mrs</td>\n",
       "    </tr>\n",
       "    <tr>\n",
       "      <th>2</th>\n",
       "      <td>3</td>\n",
       "      <td>1.0</td>\n",
       "      <td>3</td>\n",
       "      <td>1</td>\n",
       "      <td>1</td>\n",
       "      <td>26.000000</td>\n",
       "      <td>0</td>\n",
       "      <td>0</td>\n",
       "      <td>STON/O2. 3101282</td>\n",
       "      <td>7.9250</td>\n",
       "      <td>0</td>\n",
       "      <td>0</td>\n",
       "      <td>Miss</td>\n",
       "    </tr>\n",
       "    <tr>\n",
       "      <th>3</th>\n",
       "      <td>4</td>\n",
       "      <td>1.0</td>\n",
       "      <td>1</td>\n",
       "      <td>2</td>\n",
       "      <td>1</td>\n",
       "      <td>35.000000</td>\n",
       "      <td>1</td>\n",
       "      <td>0</td>\n",
       "      <td>113803</td>\n",
       "      <td>53.1000</td>\n",
       "      <td>1</td>\n",
       "      <td>0</td>\n",
       "      <td>Mrs</td>\n",
       "    </tr>\n",
       "    <tr>\n",
       "      <th>4</th>\n",
       "      <td>5</td>\n",
       "      <td>0.0</td>\n",
       "      <td>3</td>\n",
       "      <td>0</td>\n",
       "      <td>0</td>\n",
       "      <td>35.000000</td>\n",
       "      <td>0</td>\n",
       "      <td>0</td>\n",
       "      <td>373450</td>\n",
       "      <td>8.0500</td>\n",
       "      <td>0</td>\n",
       "      <td>0</td>\n",
       "      <td>Mr</td>\n",
       "    </tr>\n",
       "    <tr>\n",
       "      <th>...</th>\n",
       "      <td>...</td>\n",
       "      <td>...</td>\n",
       "      <td>...</td>\n",
       "      <td>...</td>\n",
       "      <td>...</td>\n",
       "      <td>...</td>\n",
       "      <td>...</td>\n",
       "      <td>...</td>\n",
       "      <td>...</td>\n",
       "      <td>...</td>\n",
       "      <td>...</td>\n",
       "      <td>...</td>\n",
       "      <td>...</td>\n",
       "    </tr>\n",
       "    <tr>\n",
       "      <th>886</th>\n",
       "      <td>887</td>\n",
       "      <td>0.0</td>\n",
       "      <td>2</td>\n",
       "      <td>4</td>\n",
       "      <td>0</td>\n",
       "      <td>27.000000</td>\n",
       "      <td>0</td>\n",
       "      <td>0</td>\n",
       "      <td>211536</td>\n",
       "      <td>13.0000</td>\n",
       "      <td>0</td>\n",
       "      <td>0</td>\n",
       "      <td>Officer</td>\n",
       "    </tr>\n",
       "    <tr>\n",
       "      <th>887</th>\n",
       "      <td>888</td>\n",
       "      <td>1.0</td>\n",
       "      <td>1</td>\n",
       "      <td>1</td>\n",
       "      <td>1</td>\n",
       "      <td>19.000000</td>\n",
       "      <td>0</td>\n",
       "      <td>0</td>\n",
       "      <td>112053</td>\n",
       "      <td>30.0000</td>\n",
       "      <td>2</td>\n",
       "      <td>0</td>\n",
       "      <td>Miss</td>\n",
       "    </tr>\n",
       "    <tr>\n",
       "      <th>888</th>\n",
       "      <td>889</td>\n",
       "      <td>0.0</td>\n",
       "      <td>3</td>\n",
       "      <td>1</td>\n",
       "      <td>1</td>\n",
       "      <td>7.960018</td>\n",
       "      <td>1</td>\n",
       "      <td>2</td>\n",
       "      <td>W./C. 6607</td>\n",
       "      <td>23.4500</td>\n",
       "      <td>0</td>\n",
       "      <td>0</td>\n",
       "      <td>Miss</td>\n",
       "    </tr>\n",
       "    <tr>\n",
       "      <th>889</th>\n",
       "      <td>890</td>\n",
       "      <td>1.0</td>\n",
       "      <td>1</td>\n",
       "      <td>0</td>\n",
       "      <td>0</td>\n",
       "      <td>26.000000</td>\n",
       "      <td>0</td>\n",
       "      <td>0</td>\n",
       "      <td>111369</td>\n",
       "      <td>30.0000</td>\n",
       "      <td>1</td>\n",
       "      <td>1</td>\n",
       "      <td>Mr</td>\n",
       "    </tr>\n",
       "    <tr>\n",
       "      <th>890</th>\n",
       "      <td>891</td>\n",
       "      <td>0.0</td>\n",
       "      <td>3</td>\n",
       "      <td>0</td>\n",
       "      <td>0</td>\n",
       "      <td>32.000000</td>\n",
       "      <td>0</td>\n",
       "      <td>0</td>\n",
       "      <td>370376</td>\n",
       "      <td>7.7500</td>\n",
       "      <td>0</td>\n",
       "      <td>2</td>\n",
       "      <td>Mr</td>\n",
       "    </tr>\n",
       "  </tbody>\n",
       "</table>\n",
       "<p>891 rows × 13 columns</p>\n",
       "</div>"
      ],
      "text/plain": [
       "     PassengerId  Survived  Pclass Name  Sex        Age  SibSp  Parch  \\\n",
       "0              1       0.0       3    0    0  22.000000      1      0   \n",
       "1              2       1.0       1    2    1  38.000000      1      0   \n",
       "2              3       1.0       3    1    1  26.000000      0      0   \n",
       "3              4       1.0       1    2    1  35.000000      1      0   \n",
       "4              5       0.0       3    0    0  35.000000      0      0   \n",
       "..           ...       ...     ...  ...  ...        ...    ...    ...   \n",
       "886          887       0.0       2    4    0  27.000000      0      0   \n",
       "887          888       1.0       1    1    1  19.000000      0      0   \n",
       "888          889       0.0       3    1    1   7.960018      1      2   \n",
       "889          890       1.0       1    0    0  26.000000      0      0   \n",
       "890          891       0.0       3    0    0  32.000000      0      0   \n",
       "\n",
       "               Ticket     Fare Cabin Embarked Salutation  \n",
       "0           A/5 21171   7.2500     0        0         Mr  \n",
       "1            PC 17599  71.2833     1        1        Mrs  \n",
       "2    STON/O2. 3101282   7.9250     0        0       Miss  \n",
       "3              113803  53.1000     1        0        Mrs  \n",
       "4              373450   8.0500     0        0         Mr  \n",
       "..                ...      ...   ...      ...        ...  \n",
       "886            211536  13.0000     0        0    Officer  \n",
       "887            112053  30.0000     2        0       Miss  \n",
       "888        W./C. 6607  23.4500     0        0       Miss  \n",
       "889            111369  30.0000     1        1         Mr  \n",
       "890            370376   7.7500     0        2         Mr  \n",
       "\n",
       "[891 rows x 13 columns]"
      ]
     },
     "execution_count": 17,
     "metadata": {},
     "output_type": "execute_result"
    }
   ],
   "source": [
    "train = df.iloc[:891]\n",
    "train"
   ]
  },
  {
   "cell_type": "code",
   "execution_count": 18,
   "metadata": {
    "execution": {
     "iopub.execute_input": "2020-09-29T23:18:24.675665Z",
     "iopub.status.busy": "2020-09-29T23:18:24.675013Z",
     "iopub.status.idle": "2020-09-29T23:18:24.699449Z",
     "shell.execute_reply": "2020-09-29T23:18:24.698901Z"
    },
    "papermill": {
     "duration": 0.061939,
     "end_time": "2020-09-29T23:18:24.699569",
     "exception": false,
     "start_time": "2020-09-29T23:18:24.637630",
     "status": "completed"
    },
    "tags": []
   },
   "outputs": [
    {
     "data": {
      "text/html": [
       "<div>\n",
       "<style scoped>\n",
       "    .dataframe tbody tr th:only-of-type {\n",
       "        vertical-align: middle;\n",
       "    }\n",
       "\n",
       "    .dataframe tbody tr th {\n",
       "        vertical-align: top;\n",
       "    }\n",
       "\n",
       "    .dataframe thead th {\n",
       "        text-align: right;\n",
       "    }\n",
       "</style>\n",
       "<table border=\"1\" class=\"dataframe\">\n",
       "  <thead>\n",
       "    <tr style=\"text-align: right;\">\n",
       "      <th></th>\n",
       "      <th>PassengerId</th>\n",
       "      <th>Pclass</th>\n",
       "      <th>Name</th>\n",
       "      <th>Sex</th>\n",
       "      <th>Age</th>\n",
       "      <th>SibSp</th>\n",
       "      <th>Parch</th>\n",
       "      <th>Fare</th>\n",
       "      <th>Cabin</th>\n",
       "      <th>Embarked</th>\n",
       "    </tr>\n",
       "  </thead>\n",
       "  <tbody>\n",
       "    <tr>\n",
       "      <th>0</th>\n",
       "      <td>892</td>\n",
       "      <td>3</td>\n",
       "      <td>0</td>\n",
       "      <td>0</td>\n",
       "      <td>34.500000</td>\n",
       "      <td>0</td>\n",
       "      <td>0</td>\n",
       "      <td>7.8292</td>\n",
       "      <td>0</td>\n",
       "      <td>2</td>\n",
       "    </tr>\n",
       "    <tr>\n",
       "      <th>1</th>\n",
       "      <td>893</td>\n",
       "      <td>3</td>\n",
       "      <td>2</td>\n",
       "      <td>1</td>\n",
       "      <td>47.000000</td>\n",
       "      <td>1</td>\n",
       "      <td>0</td>\n",
       "      <td>7.0000</td>\n",
       "      <td>0</td>\n",
       "      <td>0</td>\n",
       "    </tr>\n",
       "    <tr>\n",
       "      <th>2</th>\n",
       "      <td>894</td>\n",
       "      <td>2</td>\n",
       "      <td>0</td>\n",
       "      <td>0</td>\n",
       "      <td>62.000000</td>\n",
       "      <td>0</td>\n",
       "      <td>0</td>\n",
       "      <td>9.6875</td>\n",
       "      <td>0</td>\n",
       "      <td>2</td>\n",
       "    </tr>\n",
       "    <tr>\n",
       "      <th>3</th>\n",
       "      <td>895</td>\n",
       "      <td>3</td>\n",
       "      <td>0</td>\n",
       "      <td>0</td>\n",
       "      <td>27.000000</td>\n",
       "      <td>0</td>\n",
       "      <td>0</td>\n",
       "      <td>8.6625</td>\n",
       "      <td>0</td>\n",
       "      <td>0</td>\n",
       "    </tr>\n",
       "    <tr>\n",
       "      <th>4</th>\n",
       "      <td>896</td>\n",
       "      <td>3</td>\n",
       "      <td>2</td>\n",
       "      <td>1</td>\n",
       "      <td>22.000000</td>\n",
       "      <td>1</td>\n",
       "      <td>1</td>\n",
       "      <td>12.2875</td>\n",
       "      <td>0</td>\n",
       "      <td>0</td>\n",
       "    </tr>\n",
       "    <tr>\n",
       "      <th>...</th>\n",
       "      <td>...</td>\n",
       "      <td>...</td>\n",
       "      <td>...</td>\n",
       "      <td>...</td>\n",
       "      <td>...</td>\n",
       "      <td>...</td>\n",
       "      <td>...</td>\n",
       "      <td>...</td>\n",
       "      <td>...</td>\n",
       "      <td>...</td>\n",
       "    </tr>\n",
       "    <tr>\n",
       "      <th>413</th>\n",
       "      <td>1305</td>\n",
       "      <td>3</td>\n",
       "      <td>0</td>\n",
       "      <td>0</td>\n",
       "      <td>31.639415</td>\n",
       "      <td>0</td>\n",
       "      <td>0</td>\n",
       "      <td>8.0500</td>\n",
       "      <td>0</td>\n",
       "      <td>0</td>\n",
       "    </tr>\n",
       "    <tr>\n",
       "      <th>414</th>\n",
       "      <td>1306</td>\n",
       "      <td>1</td>\n",
       "      <td>15</td>\n",
       "      <td>1</td>\n",
       "      <td>39.000000</td>\n",
       "      <td>0</td>\n",
       "      <td>0</td>\n",
       "      <td>108.9000</td>\n",
       "      <td>1</td>\n",
       "      <td>1</td>\n",
       "    </tr>\n",
       "    <tr>\n",
       "      <th>415</th>\n",
       "      <td>1307</td>\n",
       "      <td>3</td>\n",
       "      <td>0</td>\n",
       "      <td>0</td>\n",
       "      <td>38.500000</td>\n",
       "      <td>0</td>\n",
       "      <td>0</td>\n",
       "      <td>7.2500</td>\n",
       "      <td>0</td>\n",
       "      <td>0</td>\n",
       "    </tr>\n",
       "    <tr>\n",
       "      <th>416</th>\n",
       "      <td>1308</td>\n",
       "      <td>3</td>\n",
       "      <td>0</td>\n",
       "      <td>0</td>\n",
       "      <td>31.639415</td>\n",
       "      <td>0</td>\n",
       "      <td>0</td>\n",
       "      <td>8.0500</td>\n",
       "      <td>0</td>\n",
       "      <td>0</td>\n",
       "    </tr>\n",
       "    <tr>\n",
       "      <th>417</th>\n",
       "      <td>1309</td>\n",
       "      <td>3</td>\n",
       "      <td>3</td>\n",
       "      <td>0</td>\n",
       "      <td>4.132952</td>\n",
       "      <td>1</td>\n",
       "      <td>1</td>\n",
       "      <td>22.3583</td>\n",
       "      <td>0</td>\n",
       "      <td>1</td>\n",
       "    </tr>\n",
       "  </tbody>\n",
       "</table>\n",
       "<p>418 rows × 10 columns</p>\n",
       "</div>"
      ],
      "text/plain": [
       "     PassengerId  Pclass Name  Sex        Age  SibSp  Parch      Fare Cabin  \\\n",
       "0            892       3    0    0  34.500000      0      0    7.8292     0   \n",
       "1            893       3    2    1  47.000000      1      0    7.0000     0   \n",
       "2            894       2    0    0  62.000000      0      0    9.6875     0   \n",
       "3            895       3    0    0  27.000000      0      0    8.6625     0   \n",
       "4            896       3    2    1  22.000000      1      1   12.2875     0   \n",
       "..           ...     ...  ...  ...        ...    ...    ...       ...   ...   \n",
       "413         1305       3    0    0  31.639415      0      0    8.0500     0   \n",
       "414         1306       1   15    1  39.000000      0      0  108.9000     1   \n",
       "415         1307       3    0    0  38.500000      0      0    7.2500     0   \n",
       "416         1308       3    0    0  31.639415      0      0    8.0500     0   \n",
       "417         1309       3    3    0   4.132952      1      1   22.3583     0   \n",
       "\n",
       "    Embarked  \n",
       "0          2  \n",
       "1          0  \n",
       "2          2  \n",
       "3          0  \n",
       "4          0  \n",
       "..       ...  \n",
       "413        0  \n",
       "414        1  \n",
       "415        0  \n",
       "416        0  \n",
       "417        1  \n",
       "\n",
       "[418 rows x 10 columns]"
      ]
     },
     "execution_count": 18,
     "metadata": {},
     "output_type": "execute_result"
    }
   ],
   "source": [
    "X_test = df.iloc[891:]\n",
    "X_test = X_test.drop([\"Survived\", \"Ticket\", \"Salutation\"], axis=\"columns\")\n",
    "X_test"
   ]
  },
  {
   "cell_type": "markdown",
   "metadata": {
    "papermill": {
     "duration": 0.034774,
     "end_time": "2020-09-29T23:18:24.770764",
     "exception": false,
     "start_time": "2020-09-29T23:18:24.735990",
     "status": "completed"
    },
    "tags": []
   },
   "source": [
    "# 説明変数, 目的変数を定義"
   ]
  },
  {
   "cell_type": "code",
   "execution_count": 19,
   "metadata": {
    "execution": {
     "iopub.execute_input": "2020-09-29T23:18:24.854167Z",
     "iopub.status.busy": "2020-09-29T23:18:24.853429Z",
     "iopub.status.idle": "2020-09-29T23:18:24.858997Z",
     "shell.execute_reply": "2020-09-29T23:18:24.858085Z"
    },
    "papermill": {
     "duration": 0.053236,
     "end_time": "2020-09-29T23:18:24.859179",
     "exception": false,
     "start_time": "2020-09-29T23:18:24.805943",
     "status": "completed"
    },
    "tags": []
   },
   "outputs": [
    {
     "name": "stdout",
     "output_type": "stream",
     "text": [
      "   PassengerId  Pclass Name  Sex   Age  SibSp  Parch     Fare Cabin Embarked\n",
      "0            1       3    0    0  22.0      1      0   7.2500     0        0\n",
      "1            2       1    2    1  38.0      1      0  71.2833     1        1\n",
      "2            3       3    1    1  26.0      0      0   7.9250     0        0\n",
      "3            4       1    2    1  35.0      1      0  53.1000     1        0\n",
      "4            5       3    0    0  35.0      0      0   8.0500     0        0\n",
      "0    0\n",
      "1    1\n",
      "2    1\n",
      "3    1\n",
      "4    0\n",
      "Name: Survived, dtype: int64\n"
     ]
    }
   ],
   "source": [
    "X_train = train.drop([\"Survived\", \"Ticket\", \"Salutation\"], axis=\"columns\")\n",
    "y_train = train[\"Survived\"].astype(int)\n",
    "\n",
    "print(X_train.head())\n",
    "print(y_train.head())"
   ]
  },
  {
   "cell_type": "markdown",
   "metadata": {
    "papermill": {
     "duration": 0.041195,
     "end_time": "2020-09-29T23:18:24.956363",
     "exception": false,
     "start_time": "2020-09-29T23:18:24.915168",
     "status": "completed"
    },
    "tags": []
   },
   "source": [
    "# ランダムフォレストを用いた訓練データの学習"
   ]
  },
  {
   "cell_type": "code",
   "execution_count": 20,
   "metadata": {
    "execution": {
     "iopub.execute_input": "2020-09-29T23:18:25.050153Z",
     "iopub.status.busy": "2020-09-29T23:18:25.049502Z",
     "iopub.status.idle": "2020-09-29T23:18:25.566596Z",
     "shell.execute_reply": "2020-09-29T23:18:25.567231Z"
    },
    "papermill": {
     "duration": 0.56586,
     "end_time": "2020-09-29T23:18:25.567376",
     "exception": false,
     "start_time": "2020-09-29T23:18:25.001516",
     "status": "completed"
    },
    "tags": []
   },
   "outputs": [
    {
     "data": {
      "text/plain": [
       "RandomForestClassifier(n_estimators=200, random_state=71)"
      ]
     },
     "execution_count": 20,
     "metadata": {},
     "output_type": "execute_result"
    }
   ],
   "source": [
    "model = RandomForestClassifier(n_estimators=200, random_state=71)\n",
    "model.fit(X_train, y_train)"
   ]
  },
  {
   "cell_type": "markdown",
   "metadata": {
    "papermill": {
     "duration": 0.03568,
     "end_time": "2020-09-29T23:18:25.639450",
     "exception": false,
     "start_time": "2020-09-29T23:18:25.603770",
     "status": "completed"
    },
    "tags": []
   },
   "source": [
    "# 定義したモデルを予測"
   ]
  },
  {
   "cell_type": "code",
   "execution_count": 21,
   "metadata": {
    "execution": {
     "iopub.execute_input": "2020-09-29T23:18:25.721495Z",
     "iopub.status.busy": "2020-09-29T23:18:25.720410Z",
     "iopub.status.idle": "2020-09-29T23:18:25.752299Z",
     "shell.execute_reply": "2020-09-29T23:18:25.751586Z"
    },
    "papermill": {
     "duration": 0.076887,
     "end_time": "2020-09-29T23:18:25.752429",
     "exception": false,
     "start_time": "2020-09-29T23:18:25.675542",
     "status": "completed"
    },
    "tags": []
   },
   "outputs": [],
   "source": [
    "y_pred = model.predict(X_test)"
   ]
  },
  {
   "cell_type": "markdown",
   "metadata": {
    "papermill": {
     "duration": 0.035535,
     "end_time": "2020-09-29T23:18:25.824230",
     "exception": false,
     "start_time": "2020-09-29T23:18:25.788695",
     "status": "completed"
    },
    "tags": []
   },
   "source": [
    "# 正解ラベルを読み込む"
   ]
  },
  {
   "cell_type": "code",
   "execution_count": 22,
   "metadata": {
    "execution": {
     "iopub.execute_input": "2020-09-29T23:18:25.903566Z",
     "iopub.status.busy": "2020-09-29T23:18:25.902867Z",
     "iopub.status.idle": "2020-09-29T23:18:25.914998Z",
     "shell.execute_reply": "2020-09-29T23:18:25.914319Z"
    },
    "papermill": {
     "duration": 0.054751,
     "end_time": "2020-09-29T23:18:25.915133",
     "exception": false,
     "start_time": "2020-09-29T23:18:25.860382",
     "status": "completed"
    },
    "tags": []
   },
   "outputs": [
    {
     "data": {
      "text/html": [
       "<div>\n",
       "<style scoped>\n",
       "    .dataframe tbody tr th:only-of-type {\n",
       "        vertical-align: middle;\n",
       "    }\n",
       "\n",
       "    .dataframe tbody tr th {\n",
       "        vertical-align: top;\n",
       "    }\n",
       "\n",
       "    .dataframe thead th {\n",
       "        text-align: right;\n",
       "    }\n",
       "</style>\n",
       "<table border=\"1\" class=\"dataframe\">\n",
       "  <thead>\n",
       "    <tr style=\"text-align: right;\">\n",
       "      <th></th>\n",
       "      <th>Survived</th>\n",
       "    </tr>\n",
       "    <tr>\n",
       "      <th>PassengerId</th>\n",
       "      <th></th>\n",
       "    </tr>\n",
       "  </thead>\n",
       "  <tbody>\n",
       "    <tr>\n",
       "      <th>892</th>\n",
       "      <td>0</td>\n",
       "    </tr>\n",
       "    <tr>\n",
       "      <th>893</th>\n",
       "      <td>1</td>\n",
       "    </tr>\n",
       "    <tr>\n",
       "      <th>894</th>\n",
       "      <td>0</td>\n",
       "    </tr>\n",
       "    <tr>\n",
       "      <th>895</th>\n",
       "      <td>0</td>\n",
       "    </tr>\n",
       "    <tr>\n",
       "      <th>896</th>\n",
       "      <td>1</td>\n",
       "    </tr>\n",
       "    <tr>\n",
       "      <th>...</th>\n",
       "      <td>...</td>\n",
       "    </tr>\n",
       "    <tr>\n",
       "      <th>1305</th>\n",
       "      <td>0</td>\n",
       "    </tr>\n",
       "    <tr>\n",
       "      <th>1306</th>\n",
       "      <td>1</td>\n",
       "    </tr>\n",
       "    <tr>\n",
       "      <th>1307</th>\n",
       "      <td>0</td>\n",
       "    </tr>\n",
       "    <tr>\n",
       "      <th>1308</th>\n",
       "      <td>0</td>\n",
       "    </tr>\n",
       "    <tr>\n",
       "      <th>1309</th>\n",
       "      <td>0</td>\n",
       "    </tr>\n",
       "  </tbody>\n",
       "</table>\n",
       "<p>418 rows × 1 columns</p>\n",
       "</div>"
      ],
      "text/plain": [
       "             Survived\n",
       "PassengerId          \n",
       "892                 0\n",
       "893                 1\n",
       "894                 0\n",
       "895                 0\n",
       "896                 1\n",
       "...               ...\n",
       "1305                0\n",
       "1306                1\n",
       "1307                0\n",
       "1308                0\n",
       "1309                0\n",
       "\n",
       "[418 rows x 1 columns]"
      ]
     },
     "execution_count": 22,
     "metadata": {},
     "output_type": "execute_result"
    }
   ],
   "source": [
    "y_true = pd.read_csv(\"../input/titanic/gender_submission.csv\", index_col=\"PassengerId\")\n",
    "y_true"
   ]
  },
  {
   "cell_type": "markdown",
   "metadata": {
    "papermill": {
     "duration": 0.038595,
     "end_time": "2020-09-29T23:18:25.991362",
     "exception": false,
     "start_time": "2020-09-29T23:18:25.952767",
     "status": "completed"
    },
    "tags": []
   },
   "source": [
    "# 予測結果"
   ]
  },
  {
   "cell_type": "code",
   "execution_count": 23,
   "metadata": {
    "execution": {
     "iopub.execute_input": "2020-09-29T23:18:26.072688Z",
     "iopub.status.busy": "2020-09-29T23:18:26.071797Z",
     "iopub.status.idle": "2020-09-29T23:18:26.075859Z",
     "shell.execute_reply": "2020-09-29T23:18:26.076393Z"
    },
    "papermill": {
     "duration": 0.047594,
     "end_time": "2020-09-29T23:18:26.076531",
     "exception": false,
     "start_time": "2020-09-29T23:18:26.028937",
     "status": "completed"
    },
    "tags": []
   },
   "outputs": [
    {
     "name": "stdout",
     "output_type": "stream",
     "text": [
      "正答率： 0.8229665071770335\n"
     ]
    }
   ],
   "source": [
    "print(\"正答率： {}\".format(accuracy_score(y_true=y_true, y_pred=y_pred)))"
   ]
  },
  {
   "cell_type": "markdown",
   "metadata": {
    "papermill": {
     "duration": 0.037315,
     "end_time": "2020-09-29T23:18:26.151520",
     "exception": false,
     "start_time": "2020-09-29T23:18:26.114205",
     "status": "completed"
    },
    "tags": []
   },
   "source": [
    "# ファイルの出力"
   ]
  },
  {
   "cell_type": "markdown",
   "metadata": {
    "papermill": {
     "duration": 0.037854,
     "end_time": "2020-09-29T23:18:26.229452",
     "exception": false,
     "start_time": "2020-09-29T23:18:26.191598",
     "status": "completed"
    },
    "tags": []
   },
   "source": [
    "### PassengerId と 予測結果を結合し提出用の CSV ファイルとして出力する"
   ]
  },
  {
   "cell_type": "code",
   "execution_count": 24,
   "metadata": {
    "execution": {
     "iopub.execute_input": "2020-09-29T23:18:26.311529Z",
     "iopub.status.busy": "2020-09-29T23:18:26.310852Z",
     "iopub.status.idle": "2020-09-29T23:18:26.677814Z",
     "shell.execute_reply": "2020-09-29T23:18:26.677182Z"
    },
    "papermill": {
     "duration": 0.410569,
     "end_time": "2020-09-29T23:18:26.677930",
     "exception": false,
     "start_time": "2020-09-29T23:18:26.267361",
     "status": "completed"
    },
    "tags": []
   },
   "outputs": [],
   "source": [
    "submission = pd.DataFrame({\"PassengerId\":X_test[\"PassengerId\"], \"Survived\":y_pred})\n",
    "submission.to_csv(\"submission.csv\", index=False)"
   ]
  }
 ],
 "metadata": {
  "kernelspec": {
   "display_name": "Python 3",
   "language": "python",
   "name": "python3"
  },
  "language_info": {
   "codemirror_mode": {
    "name": "ipython",
    "version": 3
   },
   "file_extension": ".py",
   "mimetype": "text/x-python",
   "name": "python",
   "nbconvert_exporter": "python",
   "pygments_lexer": "ipython3",
   "version": "3.7.6"
  },
  "papermill": {
   "duration": 11.414557,
   "end_time": "2020-09-29T23:18:26.826249",
   "environment_variables": {},
   "exception": null,
   "input_path": "__notebook__.ipynb",
   "output_path": "__notebook__.ipynb",
   "parameters": {},
   "start_time": "2020-09-29T23:18:15.411692",
   "version": "2.1.0"
  }
 },
 "nbformat": 4,
 "nbformat_minor": 4
}
